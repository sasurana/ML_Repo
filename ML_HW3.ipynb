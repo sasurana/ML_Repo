{
 "cells": [
  {
   "cell_type": "code",
   "execution_count": 34,
   "metadata": {},
   "outputs": [
    {
     "data": {
      "text/html": [
       "<div>\n",
       "<style>\n",
       "    .dataframe thead tr:only-child th {\n",
       "        text-align: right;\n",
       "    }\n",
       "\n",
       "    .dataframe thead th {\n",
       "        text-align: left;\n",
       "    }\n",
       "\n",
       "    .dataframe tbody tr th {\n",
       "        vertical-align: top;\n",
       "    }\n",
       "</style>\n",
       "<table border=\"1\" class=\"dataframe\">\n",
       "  <thead>\n",
       "    <tr style=\"text-align: right;\">\n",
       "      <th></th>\n",
       "      <th>TERM</th>\n",
       "      <th>Season</th>\n",
       "      <th>ISBN</th>\n",
       "      <th>CAP</th>\n",
       "      <th>ACT ENROLL</th>\n",
       "      <th>RC_Flag</th>\n",
       "      <th>NEW PRICE</th>\n",
       "      <th>USED PRICE</th>\n",
       "      <th>AMAZON PRICE</th>\n",
       "      <th>total sales</th>\n",
       "      <th>TermRank</th>\n",
       "    </tr>\n",
       "  </thead>\n",
       "  <tbody>\n",
       "    <tr>\n",
       "      <th>0</th>\n",
       "      <td>S14</td>\n",
       "      <td>S</td>\n",
       "      <td>140433163</td>\n",
       "      <td>45</td>\n",
       "      <td>38</td>\n",
       "      <td>1</td>\n",
       "      <td>21.35</td>\n",
       "      <td>16.00</td>\n",
       "      <td>320.25</td>\n",
       "      <td>0.0</td>\n",
       "      <td>1</td>\n",
       "    </tr>\n",
       "    <tr>\n",
       "      <th>1</th>\n",
       "      <td>F14</td>\n",
       "      <td>F</td>\n",
       "      <td>143125974</td>\n",
       "      <td>290</td>\n",
       "      <td>280</td>\n",
       "      <td>1</td>\n",
       "      <td>25.00</td>\n",
       "      <td>18.75</td>\n",
       "      <td>375.00</td>\n",
       "      <td>0.0</td>\n",
       "      <td>1</td>\n",
       "    </tr>\n",
       "    <tr>\n",
       "      <th>2</th>\n",
       "      <td>S17</td>\n",
       "      <td>S</td>\n",
       "      <td>2.81005E+12</td>\n",
       "      <td>25</td>\n",
       "      <td>25</td>\n",
       "      <td>1</td>\n",
       "      <td>30.20</td>\n",
       "      <td>22.65</td>\n",
       "      <td>453.00</td>\n",
       "      <td>0.0</td>\n",
       "      <td>2</td>\n",
       "    </tr>\n",
       "    <tr>\n",
       "      <th>3</th>\n",
       "      <td>W17</td>\n",
       "      <td>W</td>\n",
       "      <td>2.81005E+12</td>\n",
       "      <td>24</td>\n",
       "      <td>24</td>\n",
       "      <td>1</td>\n",
       "      <td>30.20</td>\n",
       "      <td>22.65</td>\n",
       "      <td>453.00</td>\n",
       "      <td>0.0</td>\n",
       "      <td>1</td>\n",
       "    </tr>\n",
       "    <tr>\n",
       "      <th>4</th>\n",
       "      <td>W16</td>\n",
       "      <td>W</td>\n",
       "      <td>387922997</td>\n",
       "      <td>90</td>\n",
       "      <td>32</td>\n",
       "      <td>1</td>\n",
       "      <td>93.25</td>\n",
       "      <td>69.95</td>\n",
       "      <td>999.00</td>\n",
       "      <td>0.0</td>\n",
       "      <td>1</td>\n",
       "    </tr>\n",
       "  </tbody>\n",
       "</table>\n",
       "</div>"
      ],
      "text/plain": [
       "  TERM Season         ISBN  CAP  ACT ENROLL  RC_Flag  NEW PRICE  USED PRICE  \\\n",
       "0  S14      S    140433163   45          38        1      21.35       16.00   \n",
       "1  F14      F    143125974  290         280        1      25.00       18.75   \n",
       "2  S17      S  2.81005E+12   25          25        1      30.20       22.65   \n",
       "3  W17      W  2.81005E+12   24          24        1      30.20       22.65   \n",
       "4  W16      W    387922997   90          32        1      93.25       69.95   \n",
       "\n",
       "   AMAZON PRICE  total sales  TermRank  \n",
       "0        320.25          0.0         1  \n",
       "1        375.00          0.0         1  \n",
       "2        453.00          0.0         2  \n",
       "3        453.00          0.0         1  \n",
       "4        999.00          0.0         1  "
      ]
     },
     "execution_count": 34,
     "metadata": {},
     "output_type": "execute_result"
    }
   ],
   "source": [
    "import pandas as pd\n",
    "import numpy as np\n",
    "b = pd.read_csv(\"/Users/shreyasurana/Desktop/WinterQuarter/ML/Bookstore.csv\")\n",
    "b.head(5)"
   ]
  },
  {
   "cell_type": "code",
   "execution_count": 35,
   "metadata": {},
   "outputs": [
    {
     "data": {
      "text/html": [
       "<style>.container { width:100% !important; }</style>"
      ],
      "text/plain": [
       "<IPython.core.display.HTML object>"
      ]
     },
     "metadata": {},
     "output_type": "display_data"
    }
   ],
   "source": [
    "import statsmodels.api as sm\n",
    "import statsmodels.formula.api as smf\n",
    "import matplotlib.pyplot as plt\n",
    "import seaborn as sns\n",
    "color = sns.color_palette()\n",
    "from IPython.core.display import display, HTML\n",
    "display(HTML(\"<style>.container { width:100% !important; }</style>\"))\n",
    "%matplotlib inline\n",
    "from ggplot import *"
   ]
  },
  {
   "cell_type": "code",
   "execution_count": 36,
   "metadata": {},
   "outputs": [
    {
     "data": {
      "image/png": "[encoded data removed]",
      "text/plain": [
       "<matplotlib.figure.Figure at 0x1c1b890a20>"
      ]
     },
     "metadata": {},
     "output_type": "display_data"
    },
    {
     "data": {
      "text/plain": [
       "<ggplot: (7529886710)>"
      ]
     },
     "execution_count": 36,
     "metadata": {},
     "output_type": "execute_result"
    }
   ],
   "source": [
    "ggplot(b, aes(x='NEW PRICE', y='total sales')) + geom_point(color='blue', shape=4, size=75) + facet_wrap(\"Season\")\n"
   ]
  },
  {
   "cell_type": "code",
   "execution_count": 29,
   "metadata": {},
   "outputs": [
    {
     "data": {
      "text/plain": [
       "<matplotlib.axes._subplots.AxesSubplot at 0x1c1d2f6668>"
      ]
     },
     "execution_count": 29,
     "metadata": {},
     "output_type": "execute_result"
    },
    {
     "data": {
      "image/png": "[encoded data removed]",
      "text/plain": [
       "<matplotlib.figure.Figure at 0x1c1d2f66d8>"
      ]
     },
     "metadata": {},
     "output_type": "display_data"
    }
   ],
   "source": [
    "plt.subplots(figsize=(10,10))\n",
    "ax = plt.axes()\n",
    "ax.set_title(\"Bookstore Sales: Correlation heatmap\")\n",
    "corr = b.corr()\n",
    "sns.heatmap(corr, \n",
    "            xticklabels=corr.columns.values,\n",
    "            yticklabels=corr.columns.values, cmap=\"Greens\")"
   ]
  },
  {
   "cell_type": "code",
   "execution_count": 30,
   "metadata": {
    "collapsed": true
   },
   "outputs": [],
   "source": [
    "from sklearn.model_selection import train_test_split\n",
    "\n",
    "train8, test2 = train_test_split(b, test_size=0.2)\n"
   ]
  },
  {
   "cell_type": "code",
   "execution_count": 32,
   "metadata": {},
   "outputs": [
    {
     "data": {
      "text/html": [
       "<div>\n",
       "<style>\n",
       "    .dataframe thead tr:only-child th {\n",
       "        text-align: right;\n",
       "    }\n",
       "\n",
       "    .dataframe thead th {\n",
       "        text-align: left;\n",
       "    }\n",
       "\n",
       "    .dataframe tbody tr th {\n",
       "        vertical-align: top;\n",
       "    }\n",
       "</style>\n",
       "<table border=\"1\" class=\"dataframe\">\n",
       "  <thead>\n",
       "    <tr style=\"text-align: right;\">\n",
       "      <th></th>\n",
       "      <th>TERM</th>\n",
       "      <th>Season</th>\n",
       "      <th>ISBN</th>\n",
       "      <th>CAP</th>\n",
       "      <th>ACT ENROLL</th>\n",
       "      <th>RC_Flag</th>\n",
       "      <th>NEW PRICE</th>\n",
       "      <th>USED PRICE</th>\n",
       "      <th>AMAZON PRICE</th>\n",
       "      <th>total sales</th>\n",
       "      <th>TermRank</th>\n",
       "    </tr>\n",
       "  </thead>\n",
       "  <tbody>\n",
       "    <tr>\n",
       "      <th>8155</th>\n",
       "      <td>W15</td>\n",
       "      <td>W</td>\n",
       "      <td>9.78052E+12</td>\n",
       "      <td>34</td>\n",
       "      <td>12</td>\n",
       "      <td>1</td>\n",
       "      <td>49.99</td>\n",
       "      <td>37.49</td>\n",
       "      <td>41.68</td>\n",
       "      <td>8.0</td>\n",
       "      <td>4</td>\n",
       "    </tr>\n",
       "    <tr>\n",
       "      <th>13763</th>\n",
       "      <td>S17</td>\n",
       "      <td>S</td>\n",
       "      <td>9.78141E+12</td>\n",
       "      <td>50</td>\n",
       "      <td>45</td>\n",
       "      <td>1</td>\n",
       "      <td>80.00</td>\n",
       "      <td>60.00</td>\n",
       "      <td>56.19</td>\n",
       "      <td>12.0</td>\n",
       "      <td>3</td>\n",
       "    </tr>\n",
       "    <tr>\n",
       "      <th>14087</th>\n",
       "      <td>S17</td>\n",
       "      <td>S</td>\n",
       "      <td>9.78144E+12</td>\n",
       "      <td>60</td>\n",
       "      <td>46</td>\n",
       "      <td>1</td>\n",
       "      <td>79.95</td>\n",
       "      <td>59.96</td>\n",
       "      <td>63.96</td>\n",
       "      <td>6.0</td>\n",
       "      <td>8</td>\n",
       "    </tr>\n",
       "    <tr>\n",
       "      <th>3470</th>\n",
       "      <td>F14</td>\n",
       "      <td>F</td>\n",
       "      <td>9.78021E+12</td>\n",
       "      <td>25</td>\n",
       "      <td>22</td>\n",
       "      <td>1</td>\n",
       "      <td>111.20</td>\n",
       "      <td>83.40</td>\n",
       "      <td>777.00</td>\n",
       "      <td>12.0</td>\n",
       "      <td>4</td>\n",
       "    </tr>\n",
       "    <tr>\n",
       "      <th>5106</th>\n",
       "      <td>W17</td>\n",
       "      <td>W</td>\n",
       "      <td>9.78032E+12</td>\n",
       "      <td>85</td>\n",
       "      <td>56</td>\n",
       "      <td>1</td>\n",
       "      <td>180.00</td>\n",
       "      <td>135.00</td>\n",
       "      <td>114.99</td>\n",
       "      <td>5.0</td>\n",
       "      <td>11</td>\n",
       "    </tr>\n",
       "  </tbody>\n",
       "</table>\n",
       "</div>"
      ],
      "text/plain": [
       "      TERM Season         ISBN  CAP  ACT ENROLL  RC_Flag  NEW PRICE  \\\n",
       "8155   W15      W  9.78052E+12   34          12        1      49.99   \n",
       "13763  S17      S  9.78141E+12   50          45        1      80.00   \n",
       "14087  S17      S  9.78144E+12   60          46        1      79.95   \n",
       "3470   F14      F  9.78021E+12   25          22        1     111.20   \n",
       "5106   W17      W  9.78032E+12   85          56        1     180.00   \n",
       "\n",
       "       USED PRICE  AMAZON PRICE  total sales  TermRank  \n",
       "8155        37.49         41.68          8.0         4  \n",
       "13763       60.00         56.19         12.0         3  \n",
       "14087       59.96         63.96          6.0         8  \n",
       "3470        83.40        777.00         12.0         4  \n",
       "5106       135.00        114.99          5.0        11  "
      ]
     },
     "execution_count": 32,
     "metadata": {},
     "output_type": "execute_result"
    }
   ],
   "source": [
    "train.head(5)"
   ]
  },
  {
   "cell_type": "code",
   "execution_count": 33,
   "metadata": {},
   "outputs": [
    {
     "data": {
      "text/html": [
       "<div>\n",
       "<style>\n",
       "    .dataframe thead tr:only-child th {\n",
       "        text-align: right;\n",
       "    }\n",
       "\n",
       "    .dataframe thead th {\n",
       "        text-align: left;\n",
       "    }\n",
       "\n",
       "    .dataframe tbody tr th {\n",
       "        vertical-align: top;\n",
       "    }\n",
       "</style>\n",
       "<table border=\"1\" class=\"dataframe\">\n",
       "  <thead>\n",
       "    <tr style=\"text-align: right;\">\n",
       "      <th></th>\n",
       "      <th>TERM</th>\n",
       "      <th>Season</th>\n",
       "      <th>ISBN</th>\n",
       "      <th>CAP</th>\n",
       "      <th>ACT ENROLL</th>\n",
       "      <th>RC_Flag</th>\n",
       "      <th>NEW PRICE</th>\n",
       "      <th>USED PRICE</th>\n",
       "      <th>AMAZON PRICE</th>\n",
       "      <th>total sales</th>\n",
       "      <th>TermRank</th>\n",
       "    </tr>\n",
       "  </thead>\n",
       "  <tbody>\n",
       "    <tr>\n",
       "      <th>13706</th>\n",
       "      <td>F14</td>\n",
       "      <td>F</td>\n",
       "      <td>9.78141E+12</td>\n",
       "      <td>65</td>\n",
       "      <td>22</td>\n",
       "      <td>0</td>\n",
       "      <td>61.95</td>\n",
       "      <td>46.46</td>\n",
       "      <td>26.68</td>\n",
       "      <td>12.0</td>\n",
       "      <td>2</td>\n",
       "    </tr>\n",
       "    <tr>\n",
       "      <th>2352</th>\n",
       "      <td>F16</td>\n",
       "      <td>F</td>\n",
       "      <td>9.78019E+12</td>\n",
       "      <td>198</td>\n",
       "      <td>81</td>\n",
       "      <td>1</td>\n",
       "      <td>11.95</td>\n",
       "      <td>8.96</td>\n",
       "      <td>6.94</td>\n",
       "      <td>56.0</td>\n",
       "      <td>2</td>\n",
       "    </tr>\n",
       "    <tr>\n",
       "      <th>5379</th>\n",
       "      <td>F13</td>\n",
       "      <td>F</td>\n",
       "      <td>9.78037E+12</td>\n",
       "      <td>384</td>\n",
       "      <td>370</td>\n",
       "      <td>1</td>\n",
       "      <td>15.00</td>\n",
       "      <td>11.25</td>\n",
       "      <td>8.25</td>\n",
       "      <td>127.0</td>\n",
       "      <td>1</td>\n",
       "    </tr>\n",
       "    <tr>\n",
       "      <th>5085</th>\n",
       "      <td>F14</td>\n",
       "      <td>F</td>\n",
       "      <td>9.78032E+12</td>\n",
       "      <td>27</td>\n",
       "      <td>23</td>\n",
       "      <td>1</td>\n",
       "      <td>116.80</td>\n",
       "      <td>87.60</td>\n",
       "      <td>49.99</td>\n",
       "      <td>5.0</td>\n",
       "      <td>2</td>\n",
       "    </tr>\n",
       "    <tr>\n",
       "      <th>5131</th>\n",
       "      <td>F16</td>\n",
       "      <td>F</td>\n",
       "      <td>9.78032E+12</td>\n",
       "      <td>25</td>\n",
       "      <td>25</td>\n",
       "      <td>1</td>\n",
       "      <td>154.20</td>\n",
       "      <td>115.65</td>\n",
       "      <td>82.67</td>\n",
       "      <td>3.0</td>\n",
       "      <td>1</td>\n",
       "    </tr>\n",
       "  </tbody>\n",
       "</table>\n",
       "</div>"
      ],
      "text/plain": [
       "      TERM Season         ISBN  CAP  ACT ENROLL  RC_Flag  NEW PRICE  \\\n",
       "13706  F14      F  9.78141E+12   65          22        0      61.95   \n",
       "2352   F16      F  9.78019E+12  198          81        1      11.95   \n",
       "5379   F13      F  9.78037E+12  384         370        1      15.00   \n",
       "5085   F14      F  9.78032E+12   27          23        1     116.80   \n",
       "5131   F16      F  9.78032E+12   25          25        1     154.20   \n",
       "\n",
       "       USED PRICE  AMAZON PRICE  total sales  TermRank  \n",
       "13706       46.46         26.68         12.0         2  \n",
       "2352         8.96          6.94         56.0         2  \n",
       "5379        11.25          8.25        127.0         1  \n",
       "5085        87.60         49.99          5.0         2  \n",
       "5131       115.65         82.67          3.0         1  "
      ]
     },
     "execution_count": 33,
     "metadata": {},
     "output_type": "execute_result"
    }
   ],
   "source": [
    "test.head(5)"
   ]
  },
  {
   "cell_type": "code",
   "execution_count": 37,
   "metadata": {
    "collapsed": true
   },
   "outputs": [],
   "source": [
    "train7, test3 = train_test_split(b, test_size=0.3)\n",
    "train9, test1 = train_test_split(b, test_size=0.1)\n",
    "train6, test4 = train_test_split(b, test_size=0.4)"
   ]
  },
  {
   "cell_type": "code",
   "execution_count": null,
   "metadata": {
    "collapsed": true
   },
   "outputs": [],
   "source": []
  }
 ],
 "metadata": {
  "kernelspec": {
   "display_name": "Python 3",
   "language": "python",
   "name": "python3"
  },
  "language_info": {
   "codemirror_mode": {
    "name": "ipython",
    "version": 3
   },
   "file_extension": ".py",
   "mimetype": "text/x-python",
   "name": "python",
   "nbconvert_exporter": "python",
   "pygments_lexer": "ipython3",
   "version": "3.6.3"
  }
 },
 "nbformat": 4,
 "nbformat_minor": 2
}
